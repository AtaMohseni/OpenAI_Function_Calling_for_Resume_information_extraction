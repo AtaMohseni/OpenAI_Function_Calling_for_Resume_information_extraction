{
 "cells": [
  {
   "cell_type": "code",
   "execution_count": null,
   "id": "4d648e69-90b3-48a9-80b5-ab4ca566d3bc",
   "metadata": {},
   "outputs": [],
   "source": [
    "# resume information extraction"
   ]
  },
  {
   "cell_type": "code",
   "execution_count": 12,
   "id": "9593cbb5-fe4b-4384-a335-5bec08f69ced",
   "metadata": {},
   "outputs": [],
   "source": [
    "import os\n",
    "import openai\n",
    "import sys\n",
    "sys.path.append('../..')\n",
    "\n",
    "from dotenv import load_dotenv, find_dotenv\n",
    "_ = load_dotenv(find_dotenv()) # read local .env file\n",
    "\n",
    "openai.api_key  = os.environ['OPENAI_API_KEY']"
   ]
  },
  {
   "cell_type": "code",
   "execution_count": 19,
   "id": "10655aa3-fdc7-4ead-bb70-f4ac70a7863e",
   "metadata": {},
   "outputs": [],
   "source": [
    "from langchain.document_loaders import PyPDFLoader\n",
    "loader = PyPDFLoader(\"./sample_resume.pdf\")\n",
    "pages = loader.load()\n"
   ]
  },
  {
   "cell_type": "code",
   "execution_count": 20,
   "id": "83dc04d8-1139-42c4-8cf3-002b468f6966",
   "metadata": {
    "tags": []
   },
   "outputs": [
    {
     "data": {
      "text/plain": [
       "1"
      ]
     },
     "execution_count": 20,
     "metadata": {},
     "output_type": "execute_result"
    }
   ],
   "source": [
    "len(pages)"
   ]
  },
  {
   "cell_type": "code",
   "execution_count": 21,
   "id": "602d8ec4-d346-4add-98bd-d1d76b3655a7",
   "metadata": {
    "tags": []
   },
   "outputs": [],
   "source": [
    "txt = ' '.join([d.page_content for d in pages])"
   ]
  },
  {
   "cell_type": "code",
   "execution_count": 22,
   "id": "2ae9ea1c-bc41-44a3-9067-5e47dbe332f0",
   "metadata": {
    "tags": []
   },
   "outputs": [],
   "source": [
    "from typing import List\n",
    "from pydantic import BaseModel, Field\n",
    "from langchain.utils.openai_functions import convert_pydantic_to_openai_function"
   ]
  },
  {
   "cell_type": "code",
   "execution_count": 23,
   "id": "ae9e0f58-a849-4066-89dd-5a9ee1a3eaf6",
   "metadata": {
    "tags": []
   },
   "outputs": [],
   "source": [
    "from langchain.prompts import ChatPromptTemplate\n",
    "from langchain.chat_models import ChatOpenAI"
   ]
  },
  {
   "cell_type": "code",
   "execution_count": 24,
   "id": "77bd0943-a947-45ae-9f1f-f9babdb1d568",
   "metadata": {
    "tags": []
   },
   "outputs": [],
   "source": [
    "class Overview(BaseModel):\n",
    "    \"\"\"Overview of a resume text.\"\"\"\n",
    "    email: str = Field (description=\"Provide the email address of candidate if it mentioned in content.\")\n",
    "    phone_number: str = Field (description=\"Provide the phone number of candidate if it is mentioned in content.\")\n",
    "    webpage: str = Field (description=\"Provide webpage(s) that are relevant to candidate if is it mentioned in content.\")\n",
    "    Linkedin: str = Field (description=\"Provide a LinkedIn webpage or URL of candidate if it is mentioned in content.\")\n",
    "    github: str = Field (description=\"Provide a github webpage or github URL of candidate if it is mentioned in content.\")\n",
    "    summary: str = Field(description=\"Provide a concise summary of the content.\")\n",
    "    language: str = Field(description=\"Provide the language that the content is written in.\")\n",
    "    technical_tools: str = Field(description = \"Provide technical tools or technical skills that are related to content\")\n",
    "    keywords: str = Field(description=\"Provide keywords related to the content.\")"
   ]
  },
  {
   "cell_type": "code",
   "execution_count": 25,
   "id": "f926faca-dc95-4165-9c40-ee6ed7761908",
   "metadata": {
    "tags": []
   },
   "outputs": [],
   "source": [
    "prompt = ChatPromptTemplate.from_messages([\n",
    "    (\"system\", \"Extract the relevant information from a candidate's resume, if information is not explicitly provided do not guess. Extract partial info\"),\n",
    "    (\"human\", \"{input}\")\n",
    "])"
   ]
  },
  {
   "cell_type": "code",
   "execution_count": 26,
   "id": "7a897bdb-bd89-4697-bbd5-1b12bb13d2cd",
   "metadata": {
    "tags": []
   },
   "outputs": [],
   "source": [
    "model = ChatOpenAI(temperature=0)"
   ]
  },
  {
   "cell_type": "code",
   "execution_count": 27,
   "id": "fa226930-1189-447a-b176-972da8d76b54",
   "metadata": {
    "tags": []
   },
   "outputs": [],
   "source": [
    "from langchain.output_parsers.openai_functions import JsonKeyOutputFunctionsParser\n",
    "from langchain.output_parsers.openai_functions import JsonOutputFunctionsParser"
   ]
  },
  {
   "cell_type": "code",
   "execution_count": 28,
   "id": "2ed03faa-dfac-4a62-a814-a19d4aa328de",
   "metadata": {
    "tags": []
   },
   "outputs": [],
   "source": [
    "overview_tagging_function = [\n",
    "    convert_pydantic_to_openai_function(Overview)\n",
    "]\n",
    "extracting_model = model.bind(\n",
    "    functions=overview_tagging_function,\n",
    "    function_call={\"name\":\"Overview\"}\n",
    ")\n",
    "extracting_chain = prompt | extracting_model | JsonOutputFunctionsParser()"
   ]
  },
  {
   "cell_type": "code",
   "execution_count": 29,
   "id": "ed93dc08-4bd7-4ce1-a282-f1d086baeec1",
   "metadata": {
    "tags": []
   },
   "outputs": [
    {
     "data": {
      "text/plain": [
       "{'email': 'first.last@selu.edu',\n",
       " 'phone_number': '555-555-5555',\n",
       " 'webpage': 'issuu.com/eengineersample',\n",
       " 'Linkedin': '',\n",
       " 'github': '',\n",
       " 'summary': 'Experienced in designing solutions for environmental problems that require integration of environmental and human health constraints compatible with economic growth, sustainable development, and ethical standards. Proficient with a variety of modeling and drafting software including AutoCAD and ALGOR. Efficiently manage projects and collaborate with teams to accelerate the overarching goals of the company.',\n",
       " 'language': 'English',\n",
       " 'technical_tools': 'AutoCAD, ALGOR',\n",
       " 'keywords': 'environmental problems, design solutions, modeling software, drafting software, project management, collaboration'}"
      ]
     },
     "execution_count": 29,
     "metadata": {},
     "output_type": "execute_result"
    }
   ],
   "source": [
    "extracting_chain.invoke({\"input\": txt})"
   ]
  }
 ],
 "metadata": {
  "kernelspec": {
   "display_name": "Python 3 (ipykernel)",
   "language": "python",
   "name": "python3"
  },
  "language_info": {
   "codemirror_mode": {
    "name": "ipython",
    "version": 3
   },
   "file_extension": ".py",
   "mimetype": "text/x-python",
   "name": "python",
   "nbconvert_exporter": "python",
   "pygments_lexer": "ipython3",
   "version": "3.8.18"
  }
 },
 "nbformat": 4,
 "nbformat_minor": 5
}
